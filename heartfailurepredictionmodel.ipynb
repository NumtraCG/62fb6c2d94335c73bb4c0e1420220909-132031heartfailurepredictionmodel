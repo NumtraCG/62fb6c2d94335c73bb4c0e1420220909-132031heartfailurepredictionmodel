{
 "cells": [
  {
   "cell_type": "markdown",
   "metadata": {},
   "source": [
    "***GENERATED CODE FOR heartfailurepredictionmodel PIPELINE.***"
   ]
  },
  {
   "cell_type": "markdown",
   "metadata": {},
   "source": [
    "***DON'T EDIT THIS CODE.***"
   ]
  },
  {
   "cell_type": "markdown",
   "metadata": {},
   "source": [
    "***CONNECTOR FUNCTIONS TO READ DATA.***"
   ]
  },
  {
   "cell_type": "code",
   "execution_count": null,
   "metadata": {},
   "outputs": [],
   "source": [
    "from hdfs3 import HDFileSystem\n",
    "import datetime\n",
    "import logging\n",
    "import warnings\n",
    "warnings.filterwarnings('ignore')\n",
    "logging.basicConfig(format='%(levelname)s:%(message)s', level=logging.INFO)\n",
    "\n",
    "\n",
    "class HDFSConnector:\n",
    "\n",
    "    def fetch(spark, config):\n",
    "        ################### INPUT HADOOP HOST PORT TO CONNECT WITH ###############################\n",
    "        hdfs = HDFileSystem(\n",
    "            host=eval(config)['host'], port=eval(config)['port'])\n",
    "        with hdfs.open(eval(config)['url']) as f:\n",
    "            df = pd.read_csv(f, error_bad_lines=False)\n",
    "        df = spark.createDataFrame(dfPd)\n",
    "        display(df.limit(2).toPandas())\n",
    "        return df\n",
    "\n",
    "    def put(df, spark, config):\n",
    "        return df.write.format('csv').options(header='true' if eval(config)[\"is_header\"] == \"Use Header Line\" else 'false',\n",
    "                                              delimiter=eval(config)[\"delimiter\"]).save((\"%s %s\") % (datetime.datetime.now().strftime(\"%Y-%m-%d %H.%M.%S\")+\"_\", eval(config)['url']))\n"
   ]
  },
  {
   "cell_type": "markdown",
   "metadata": {},
   "source": [
    "***TRANSFORMATIONS FUNCTIONS THAT WILL BE APPLIED ON DATA***"
   ]
  },
  {
   "cell_type": "code",
   "execution_count": null,
   "metadata": {},
   "outputs": [],
   "source": [
    "import json\n",
    "from pyspark.sql.functions import col, when\n",
    "from pyspark.sql.functions import mean, stddev, min, max, col\n",
    "\n",
    "\n",
    "class CleanseData:\n",
    "    # def __init__(self,df):\n",
    "    #     #print()\n",
    "\n",
    "    def replaceByMean(self, feature, df, mean_=-1):\n",
    "\n",
    "        meanValue = df.select(mean(col(feature.name)).alias(\n",
    "            'mean')).collect()[0][\"mean\"]\n",
    "        df.fillna(meanValue, subset=[feature.name])\n",
    "        df.withColumn(feature.name, when(col(feature.name) == \" \",\n",
    "                                         meanValue).otherwise(col(feature.name).cast(\"Integer\")))\n",
    "        return df\n",
    "\n",
    "    def replaceByMax(self, feature, df, max_=-1):\n",
    "        maxValue = df.select(max(col(feature.name)).alias('max')).collect()[\n",
    "            0][\"max\"]\n",
    "        df.fillna(maxValue, subset=[feature.name])\n",
    "        df = df.withColumn(feature.name,\n",
    "                           when(col(feature.name) == \" \", maxValue).otherwise(col(feature.name)))\n",
    "        return df\n",
    "\n",
    "    def replaceByMin(self, feature, df, min_=-1):\n",
    "        minValue = df.select(min(col(feature.name)).alias('min')).collect()[\n",
    "            0][\"min\"]\n",
    "        df.fillna(minValue, subset=[feature.name])\n",
    "        df = df.withColumn(feature.name,\n",
    "                           when(col(feature.name) == \" \", minValue).otherwise(col(feature.name)))\n",
    "        return df\n",
    "\n",
    "    def replaceByStandardDeviation(self, feature, df, stddev_=-1):\n",
    "        stddevValue = df.select(stddev(col(feature.name)).alias(\n",
    "            'stddev')).collect()[0][\"stddev\"]\n",
    "        df.fillna(stddevValue, subset=[feature.name])\n",
    "        df = df.withColumn(feature.name,\n",
    "                           when(col(feature.name) == \" \", stddevValue).otherwise(col(feature.name)))\n",
    "        return df\n",
    "\n",
    "    def replaceDateRandomly(self, feature, df):\n",
    "        fillValue = df.where(col(feature.name).isNotNull()\n",
    "                             ).head(1)[0][feature.name]\n",
    "        df.fillna(str(fillValue), subset=[feature.name])\n",
    "        df = df.withColumn(feature.name,\n",
    "                           when(col(feature.name) == \" \", fillValue).otherwise(col(feature.name)))\n",
    "        # print(\"CleanseData:replaceDateRandomly Schema : \", df.#printSchema())\n",
    "        return df\n",
    "\n",
    "    def replaceNullValues(self, fList, df):\n",
    "        featuresList = df.schema.fields\n",
    "        for featureObj in fList:\n",
    "            for feat in featuresList:\n",
    "                if featureObj[\"feature\"] in feat.name:\n",
    "                    featureName = feat\n",
    "                    if \"mean\" in featureObj[\"replaceby\"]:\n",
    "                        df = self.replaceByMean(featureName, df)\n",
    "                    elif \"max\" in featureObj[\"replaceby\"]:\n",
    "                        df = self.replaceByMax(featureName, df)\n",
    "                    elif \"min\" in featureObj[\"replaceby\"]:\n",
    "                        df = self.replaceByMin(featureName, df)\n",
    "                    elif \"stddev\" in featureObj[\"replaceby\"]:\n",
    "                        df = self.replaceByStandardDeviation(featureName, df)\n",
    "                    elif \"random\" in featureObj[\"replaceby\"]:\n",
    "                        df = self.replaceDateRandomly(featureName, df)\n",
    "        return df\n",
    "\n",
    "\n",
    "class TransformationMain:\n",
    "    # TODO: change df argument in run with following\n",
    "    def run(transformationDF, config):\n",
    "        configObj = json.loads(config)\n",
    "        featureData = configObj[\"FE\"]\n",
    "        transformationDF = CleanseData().replaceNullValues(featureData, transformationDF)\n",
    "        display(transformationDF.limit(2).toPandas())\n",
    "        return transformationDF\n"
   ]
  },
  {
   "cell_type": "markdown",
   "metadata": {},
   "source": [
    "***AUTOML FUNCTIONS***"
   ]
  },
  {
   "cell_type": "code",
   "execution_count": null,
   "metadata": {},
   "outputs": [],
   "source": [
    "from sklearn.tree import DecisionTreeClassifier\n",
    "from sklearn.model_selection import train_test_split\n",
    "\n",
    "\n",
    "def gradientboostingclassifier(df, labels, features):\n",
    "    sparkDF.persist(pyspark.StorageLevel.MEMORY_AND_DISK)\n",
    "    df = (sparkDF.toPandas())\n",
    "    Decision_tree_classifier = DecisionTreeClassifier()\n",
    "    X_train, X_test, y_train, y_test = train_test_split(\n",
    "        df[features], df[labels])\n",
    "    Decision_tree_classifier.fit(X_train, y_train)\n",
    "    display(\" Accuracy of Model : %s\" %\n",
    "            Decision_tree_classifier.score(X_test, y_test))\n",
    "\n",
    "    data = {'model': Decision_tree_classifier,\n",
    "            'X_test': X_test,\n",
    "            'y_test': y_test,\n",
    "            'label': labels,\n",
    "            'columnNames': df.columns}\n",
    "    return data\n"
   ]
  },
  {
   "cell_type": "markdown",
   "metadata": {},
   "source": [
    "***READING DATAFRAME***"
   ]
  },
  {
   "cell_type": "code",
   "execution_count": null,
   "metadata": {},
   "outputs": [],
   "source": [
    "############## CREATE SPARK SESSION ############################ ENTER YOUR SPARK MASTER IP AND PORT TO CONNECT TO SERVER ################from pyspark.sql import SparkSession\n",
    "spark = SparkSession.builder.master('spark://0.0.0.0:0000').getOrCreate()\n",
    "#%run heartfailurepredictionmodelHooks.ipynb\n",
    "try:\n",
    "\t#sourcePreExecutionHook()\n",
    "\n",
    "\theartfailureclinicalrecorddataet = HDFSConnector.fetch(spark, \"{'url': '/FileStore/platform/testdata/1639660053458_heart_failure_clinical_records_dataset.csv', 'filename': 'heart_failure_clinical_records_dataset.csv', 'delimiter': ',', 'file_type': 'Delimeted', 'dbfs_token': '', 'dbfs_domain': '', 'FilePath': '/Healthcare Models/Heart Failure - Classification/heart_failure_clinical_records_dataset.csv', 'viewFileName': 'heart_failure_clinical_records_dataset.csv', 'is_header': 'Use Header Line', 'baseType': 'hdfs', 'server_url': '/numtraPlatform/NumtraPlatformV2/uploads/platform/', 'results_url': 'http://3.139.69.95:4040/api/read/hdfs'}\")\n",
    "\n",
    "except Exception as ex: \n",
    "\tlogging.error(ex)\n"
   ]
  },
  {
   "cell_type": "markdown",
   "metadata": {},
   "source": [
    "***TRANSFORMING DATAFRAME***"
   ]
  },
  {
   "cell_type": "code",
   "execution_count": null,
   "metadata": {},
   "outputs": [],
   "source": [
    "#%run heartfailurepredictionmodelHooks.ipynb\n",
    "try:\n",
    "\t#transformationPreExecutionHook()\n",
    "\n",
    "\tmanualfe = TransformationMain.run(heartfailureclinicalrecorddataet,json.dumps( {\"FE\": [{\"transformationsData\": [{\"transformation_label\": \"novalue\"}], \"feature\": \"age\", \"type\": \"real\", \"selected\": \"True\", \"replaceby\": \"mean\", \"stats\": {\"count\": \"15\", \"mean\": \"60.13\", \"stddev\": \"12.89\", \"min\": \"40.0\", \"max\": \"80.0\", \"missing\": \"0\"}, \"transformation\": [{\"transformation\": \"novalue\", \"selectedAsDefault\": 1}], \"updatedLabel\": \"age\"}, {\"transformationsData\": [{\"transformation_label\": \"novalue\"}], \"feature\": \"anaemia\", \"transformation\": [{\"transformation\": \"novalue\", \"selectedAsDefault\": 1}], \"type\": \"numeric\", \"replaceby\": \"mean\", \"selected\": \"True\", \"stats\": {\"count\": \"15\", \"mean\": \"0.27\", \"stddev\": \"0.46\", \"min\": \"0\", \"max\": \"1\", \"missing\": \"0\"}, \"updatedLabel\": \"anaemia\"}, {\"transformationsData\": [{\"transformation_label\": \"novalue\"}], \"feature\": \"creatinine_phosphokinase\", \"transformation\": [{\"transformation\": \"novalue\", \"selectedAsDefault\": 1}], \"type\": \"numeric\", \"replaceby\": \"mean\", \"selected\": \"True\", \"stats\": {\"count\": \"15\", \"mean\": \"1017.73\", \"stddev\": \"1311.85\", \"min\": \"90\", \"max\": \"5209\", \"missing\": \"0\"}, \"updatedLabel\": \"creatinine_phosphokinase\"}, {\"transformationsData\": [{\"transformation_label\": \"novalue\"}], \"feature\": \"diabetes\", \"transformation\": [{\"transformation\": \"novalue\", \"selectedAsDefault\": 1}], \"type\": \"numeric\", \"replaceby\": \"mean\", \"selected\": \"True\", \"stats\": {\"count\": \"15\", \"mean\": \"0.27\", \"stddev\": \"0.46\", \"min\": \"0\", \"max\": \"1\", \"missing\": \"0\"}, \"updatedLabel\": \"diabetes\"}, {\"transformationsData\": [{\"transformation_label\": \"novalue\"}], \"feature\": \"ejection_fraction\", \"transformation\": [{\"transformation\": \"novalue\", \"selectedAsDefault\": 1}], \"type\": \"numeric\", \"replaceby\": \"mean\", \"selected\": \"True\", \"stats\": {\"count\": \"15\", \"mean\": \"33.53\", \"stddev\": \"11.03\", \"min\": \"15\", \"max\": \"60\", \"missing\": \"0\"}, \"updatedLabel\": \"ejection_fraction\"}, {\"transformationsData\": [{\"transformation_label\": \"novalue\"}], \"feature\": \"high_blood_pressure\", \"transformation\": [{\"transformation\": \"novalue\", \"selectedAsDefault\": 1}], \"type\": \"numeric\", \"replaceby\": \"mean\", \"selected\": \"True\", \"stats\": {\"count\": \"15\", \"mean\": \"0.4\", \"stddev\": \"0.51\", \"min\": \"0\", \"max\": \"1\", \"missing\": \"0\"}, \"updatedLabel\": \"high_blood_pressure\"}, {\"transformationsData\": [{\"transformation_label\": \"novalue\"}], \"feature\": \"platelets\", \"type\": \"real\", \"selected\": \"True\", \"replaceby\": \"mean\", \"stats\": {\"count\": \"15\", \"mean\": \"266157.2\", \"stddev\": \"106771.99\", \"min\": \"127000.0\", \"max\": \"504000.0\", \"missing\": \"0\"}, \"transformation\": [{\"transformation\": \"novalue\", \"selectedAsDefault\": 1}], \"updatedLabel\": \"platelets\"}, {\"transformationsData\": [{\"transformation_label\": \"novalue\"}], \"feature\": \"serum_creatinine\", \"type\": \"real\", \"selected\": \"True\", \"replaceby\": \"mean\", \"stats\": {\"count\": \"15\", \"mean\": \"1.01\", \"stddev\": \"0.21\", \"min\": \"0.6\", \"max\": \"1.4\", \"missing\": \"0\"}, \"transformation\": [{\"transformation\": \"novalue\", \"selectedAsDefault\": 1}], \"updatedLabel\": \"serum_creatinine\"}, {\"transformationsData\": [{\"transformation_label\": \"novalue\"}], \"feature\": \"serum_sodium\", \"transformation\": [{\"transformation\": \"novalue\", \"selectedAsDefault\": 1}], \"type\": \"numeric\", \"replaceby\": \"mean\", \"selected\": \"True\", \"stats\": {\"count\": \"15\", \"mean\": \"137.07\", \"stddev\": \"4.18\", \"min\": \"125\", \"max\": \"144\", \"missing\": \"0\"}, \"updatedLabel\": \"serum_sodium\"}, {\"transformationsData\": [{\"transformation_label\": \"novalue\"}], \"feature\": \"sex\", \"transformation\": [{\"transformation\": \"novalue\", \"selectedAsDefault\": 1}], \"type\": \"numeric\", \"replaceby\": \"mean\", \"selected\": \"True\", \"stats\": {\"count\": \"15\", \"mean\": \"0.67\", \"stddev\": \"0.49\", \"min\": \"0\", \"max\": \"1\", \"missing\": \"0\"}, \"updatedLabel\": \"sex\"}, {\"transformationsData\": [{\"transformation_label\": \"novalue\"}], \"feature\": \"smoking\", \"transformation\": [{\"transformation\": \"novalue\", \"selectedAsDefault\": 1}], \"type\": \"numeric\", \"replaceby\": \"mean\", \"selected\": \"True\", \"stats\": {\"count\": \"15\", \"mean\": \"0.4\", \"stddev\": \"0.51\", \"min\": \"0\", \"max\": \"1\", \"missing\": \"0\"}, \"updatedLabel\": \"smoking\"}, {\"transformationsData\": [{\"transformation_label\": \"novalue\"}], \"feature\": \"time\", \"transformation\": [{\"transformation\": \"novalue\", \"selectedAsDefault\": 1}], \"type\": \"numeric\", \"replaceby\": \"mean\", \"selected\": \"True\", \"stats\": {\"count\": \"15\", \"mean\": \"136.0\", \"stddev\": \"72.99\", \"min\": \"10\", \"max\": \"245\", \"missing\": \"0\"}, \"updatedLabel\": \"time\"}, {\"transformationsData\": [{\"transformation_label\": \"novalue\"}], \"feature\": \"DEATH_EVENT\", \"transformation\": [{\"transformation\": \"novalue\", \"selectedAsDefault\": 1}], \"type\": \"numeric\", \"replaceby\": \"mean\", \"selected\": \"True\", \"stats\": {\"count\": \"15\", \"mean\": \"0.2\", \"stddev\": \"0.41\", \"min\": \"0\", \"max\": \"1\", \"missing\": \"0\"}, \"updatedLabel\": \"DEATH_EVENT\"}]}))\n",
    "\n",
    "\t#transformationPostExecutionHook(manualfe)\n",
    "\n",
    "except Exception as ex: \n",
    "\tlogging.error(ex)\n"
   ]
  },
  {
   "cell_type": "markdown",
   "metadata": {},
   "source": [
    "***TRAIN MODEL***"
   ]
  },
  {
   "cell_type": "code",
   "execution_count": null,
   "metadata": {},
   "outputs": [],
   "source": [
    "#%run heartfailurepredictionmodelHooks.ipynb\n",
    "try:\n",
    "\t#mlPreExecutionHook()\n",
    "\n",
    "\tdataAutoML=DecisionTreeClassifier(manualfe, [\"age\", \"anaemia\", \"creatinine_phosphokinase\", \"diabetes\", \"ejection_fraction\", \"high_blood_pressure\", \"platelets\", \"serum_creatinine\", \"serum_sodium\", \"sex\", \"smoking\", \"time\"], \"DEATH_EVENT\")\n",
    "\n",
    "\t#mlPostExecutionHook(dataAutoML)\n",
    "\n",
    "except Exception as ex: \n",
    "\tlogging.error(ex)\n"
   ]
  }
 ],
 "metadata": {},
 "nbformat": 4,
 "nbformat_minor": 2
}
